{
  "nbformat": 4,
  "nbformat_minor": 0,
  "metadata": {
    "colab": {
      "name": "Untitled7.ipynb",
      "provenance": [],
      "authorship_tag": "ABX9TyNTpjFlxtYJ0FgLGirGKckm",
      "include_colab_link": true
    },
    "kernelspec": {
      "name": "python3",
      "display_name": "Python 3"
    },
    "language_info": {
      "name": "python"
    }
  },
  "cells": [
    {
      "cell_type": "markdown",
      "metadata": {
        "id": "view-in-github",
        "colab_type": "text"
      },
      "source": [
        "<a href=\"https://colab.research.google.com/github/marcelopaludetto/challenge/blob/main/ideas.ipynb\" target=\"_parent\"><img src=\"https://colab.research.google.com/assets/colab-badge.svg\" alt=\"Open In Colab\"/></a>"
      ]
    },
    {
      "cell_type": "code",
      "metadata": {
        "id": "kPD0qmG1fUsD"
      },
      "source": [
        "import pandas as pd"
      ],
      "execution_count": 1,
      "outputs": []
    },
    {
      "cell_type": "code",
      "metadata": {
        "id": "-fj5AK5sfZQD"
      },
      "source": [
        "dados = pd.read_csv('https://raw.githubusercontent.com/marcelopaludetto/challenge/main/Comparativos%20-%20Matr%C3%ADculas%20e%20Concluintes.csv', sep=';')\n",
        "\n",
        "dados2 = pd.read_csv('https://raw.githubusercontent.com/marcelopaludetto/challenge/main/Comparativos%20de%20M%C3%A9tricas%20ao%20longo%20dos%20anos.csv',sep=';')\n",
        "\n",
        "dados3 = pd.read_csv('https://raw.githubusercontent.com/marcelopaludetto/challenge/main/Rela%C3%A7%C3%A3o%20Matr%C3%ADculas_Fun%C3%A7%C3%A3o%20Docente.csv', sep=';')"
      ],
      "execution_count": 15,
      "outputs": []
    },
    {
      "cell_type": "code",
      "metadata": {
        "colab": {
          "base_uri": "https://localhost:8080/"
        },
        "id": "6M6xFwuNfjdl",
        "outputId": "54cd4739-8c5c-4b70-d424-ade315c325bd"
      },
      "source": [
        "dados.info()"
      ],
      "execution_count": 22,
      "outputs": [
        {
          "output_type": "stream",
          "name": "stdout",
          "text": [
            "<class 'pandas.core.frame.DataFrame'>\n",
            "RangeIndex: 591 entries, 0 to 590\n",
            "Data columns (total 9 columns):\n",
            " #   Column                        Non-Null Count  Dtype \n",
            "---  ------                        --------------  ----- \n",
            " 0   Ano Censo                     591 non-null    int64 \n",
            " 1   Categoria Administrativa      591 non-null    object\n",
            " 2   Sub Categoria Administrativa  591 non-null    object\n",
            " 3   Id Categoria Administrativa   591 non-null    int64 \n",
            " 4   Número de Matrículas          591 non-null    int64 \n",
            " 5   Número de Concluintes         591 non-null    int64 \n",
            " 6   Grau Acadêmico                591 non-null    object\n",
            " 7   Modalidade Ensino             591 non-null    object\n",
            " 8   Organização Acadêmica         591 non-null    object\n",
            "dtypes: int64(4), object(5)\n",
            "memory usage: 41.7+ KB\n"
          ]
        }
      ]
    },
    {
      "cell_type": "code",
      "metadata": {
        "colab": {
          "base_uri": "https://localhost:8080/"
        },
        "id": "W9gK1XhNfpE6",
        "outputId": "a682ec34-f40d-4acd-f807-1677ad984964"
      },
      "source": [
        "dados.columns"
      ],
      "execution_count": 17,
      "outputs": [
        {
          "output_type": "execute_result",
          "data": {
            "text/plain": [
              "Index(['Ano Censo', 'Categoria Administrativa', 'Sub Categoria Administrativa',\n",
              "       'Id Categoria Administrativa', 'Número de Matrículas',\n",
              "       'Número de Concluintes', 'Grau Acadêmico', 'Modalidade Ensino',\n",
              "       'Organização Acadêmica'],\n",
              "      dtype='object')"
            ]
          },
          "metadata": {},
          "execution_count": 17
        }
      ]
    },
    {
      "cell_type": "code",
      "metadata": {
        "colab": {
          "base_uri": "https://localhost:8080/"
        },
        "id": "xhjLKGK0fb8I",
        "outputId": "d82637a4-6285-4b89-e8a6-fabc7e2e556f"
      },
      "source": [
        "dados2.info()"
      ],
      "execution_count": 21,
      "outputs": [
        {
          "output_type": "stream",
          "name": "stdout",
          "text": [
            "<class 'pandas.core.frame.DataFrame'>\n",
            "RangeIndex: 57 entries, 0 to 56\n",
            "Data columns (total 8 columns):\n",
            " #   Column                       Non-Null Count  Dtype  \n",
            "---  ------                       --------------  -----  \n",
            " 0   Ano Censo                    57 non-null     int64  \n",
            " 1   Número de Vagas Oferecidas   55 non-null     float64\n",
            " 2   Número de Tipo de Ingressos  46 non-null     float64\n",
            " 3   Número de Matrículas         57 non-null     int64  \n",
            " 4   Número de Concluintes        57 non-null     int64  \n",
            " 5   Número de Inscritos          55 non-null     float64\n",
            " 6   Número de Cursos             54 non-null     float64\n",
            " 7   Nome Região                  57 non-null     object \n",
            "dtypes: float64(4), int64(3), object(1)\n",
            "memory usage: 3.7+ KB\n"
          ]
        }
      ]
    },
    {
      "cell_type": "code",
      "metadata": {
        "colab": {
          "base_uri": "https://localhost:8080/"
        },
        "id": "mkcsQAeIfxZE",
        "outputId": "2e17aa89-4f6f-415e-939e-704368c4777a"
      },
      "source": [
        "dados3.info()"
      ],
      "execution_count": 20,
      "outputs": [
        {
          "output_type": "stream",
          "name": "stdout",
          "text": [
            "<class 'pandas.core.frame.DataFrame'>\n",
            "RangeIndex: 108 entries, 0 to 107\n",
            "Data columns (total 6 columns):\n",
            " #   Column                                           Non-Null Count  Dtype \n",
            "---  ------                                           --------------  ----- \n",
            " 0   Ano Censo                                        108 non-null    int64 \n",
            " 1   Número de Matrículas                             108 non-null    int64 \n",
            " 2   Número de Funções Docentes                       108 non-null    int64 \n",
            " 3   Relação Matrículas/Funções Docente em Exercício  108 non-null    object\n",
            " 4   Organização Acadêmica                            108 non-null    object\n",
            " 5   Categoria Administrativa                         108 non-null    object\n",
            "dtypes: int64(3), object(3)\n",
            "memory usage: 5.2+ KB\n"
          ]
        }
      ]
    },
    {
      "cell_type": "code",
      "metadata": {
        "id": "-f9QAeXjgMXB"
      },
      "source": [
        ""
      ],
      "execution_count": null,
      "outputs": []
    }
  ]
}